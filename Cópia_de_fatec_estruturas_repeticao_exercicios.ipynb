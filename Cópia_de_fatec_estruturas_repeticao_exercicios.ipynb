{
  "cells": [
    {
      "cell_type": "markdown",
      "metadata": {
        "id": "view-in-github",
        "colab_type": "text"
      },
      "source": [
        "<a href=\"https://colab.research.google.com/github/RafaelMassayoshi/Fatec_Algoritimos_e_Logica_de_Programa-o/blob/main/C%C3%B3pia_de_fatec_estruturas_repeticao_exercicios.ipynb\" target=\"_parent\"><img src=\"https://colab.research.google.com/assets/colab-badge.svg\" alt=\"Open In Colab\"/></a>"
      ]
    },
    {
      "cell_type": "markdown",
      "metadata": {
        "id": "4BHkhl1eO0V4"
      },
      "source": [
        "1- Faça um programa que peça uma nota, entre zero e dez. Mostre uma mensagem caso o valor seja inválido e continue pedindo até que o usuário informe um valor válido."
      ]
    },
    {
      "cell_type": "code",
      "execution_count": null,
      "metadata": {
        "colab": {
          "base_uri": "https://localhost:8080/"
        },
        "id": "4aR8eWjyO20P",
        "outputId": "c751e44d-b7cf-4c1f-e48f-3974b87c1d57"
      },
      "outputs": [
        {
          "name": "stdout",
          "output_type": "stream",
          "text": [
            "informe uma nota entre 0 e 10: 11\n",
            "Informe uma nota valida: 11\n",
            "Informe uma nota valida: 11\n",
            "Informe uma nota valida: 5\n",
            "Nota valida!!!\n"
          ]
        }
      ],
      "source": [
        "nota = float(input(\"informe uma nota entre 0 e 10: \"))\n",
        "while (nota < 0 or nota > 10) :\n",
        "  nota = float(input(\"Informe uma nota valida: \"))\n",
        "else :\n",
        "   print(\"Nota valida!!!\")"
      ]
    },
    {
      "cell_type": "markdown",
      "metadata": {
        "id": "8xLNyx3vO6__"
      },
      "source": [
        "2- Faça um programa que leia um nome de usuário e a sua senha e não aceite a senha igual ao nome do usuário, mostrando uma mensagem de erro e voltando a pedir as informações."
      ]
    },
    {
      "cell_type": "code",
      "execution_count": null,
      "metadata": {
        "colab": {
          "base_uri": "https://localhost:8080/"
        },
        "id": "x21IQbJqPDtI",
        "outputId": "d19fda09-91a4-46e4-d335-42ab31cf4b0c"
      },
      "outputs": [
        {
          "name": "stdout",
          "output_type": "stream",
          "text": [
            "informe seu nome: rafa\n",
            "informe uma senha: rafa\n",
            "O nome e a senha não podem ser iguais\n",
            "infome seu nome: rafa\n",
            "informe uma senha: 123\n",
            "Informações validadas com sucesso!!!\n"
          ]
        }
      ],
      "source": [
        "nome = input(\"informe seu nome: \")\n",
        "senha = input(\"informe uma senha: \")\n",
        "while nome == senha :\n",
        "  print(\"O nome e a senha não podem ser iguais\")\n",
        "  nome = input(\"infome seu nome: \")\n",
        "  senha = input(\"informe uma senha: \")\n",
        "else :\n",
        "  print(\"Informações validadas com sucesso!!!\")"
      ]
    },
    {
      "cell_type": "markdown",
      "metadata": {
        "id": "l24MnOXFPG7n"
      },
      "source": [
        "3- Faça um programa que leia e valide as seguintes informações:\n",
        "*   Nome: maior que 3 caracteres;\n",
        "*   Idade: entre 0 e 150;\n",
        "*   Salário: maior que zero;\n",
        "*   Sexo: 'f' ou 'm';\n",
        "*   Estado Civil: 's', 'c', 'v', 'd';\n",
        "\n",
        "Use a função **len(string)** para saber o tamanho de um texto (número de caracteres).\n"
      ]
    },
    {
      "cell_type": "code",
      "execution_count": 36,
      "metadata": {
        "colab": {
          "base_uri": "https://localhost:8080/"
        },
        "id": "w28p4gJ8Pc2b",
        "outputId": "7d858e7c-7a34-4671-999b-e1709e274942"
      },
      "outputs": [
        {
          "output_type": "stream",
          "name": "stdout",
          "text": [
            "informe seu nome: 4444\n",
            "Informe sua idade: 15\n",
            "informe seu salario: 15\n",
            "informe seu sexo (f) ou (m): c\n",
            "Sexo invalido...\n",
            "Escolha uma das opçoes (f) ou (m): m\n",
            "Informe seu estado civil (s), (c), (v) ou (d): z\n",
            "Estado civil invalido...\n",
            "Informe uma das opçoes validasa\n",
            "Estado civil invalido...\n",
            "Informe uma das opçoes validass\n",
            "Todas as informaçoes foram validadas com sucesso!!!\n"
          ]
        }
      ],
      "source": [
        "nome = input(\"informe seu nome: \")\n",
        "while len(nome) <= 3 :\n",
        "  print(\"O nome não pode conter menos de 3 caracteres...\")\n",
        "  nome = input(\"informe um nome valido: \");\n",
        "\n",
        "#Validar idade\n",
        "idade = int(input(\"Informe sua idade: \"))\n",
        "while (idade < 0) or (idade > 150) :\n",
        "  print(\"Idade invalida1\")\n",
        "  idade = int(input(\"Informe outro valor: \"))\n",
        "\n",
        "#Validar salario\n",
        "salario = float(input(\"informe seu salario: \"))\n",
        "while salario <= 0 :\n",
        "  print(\"Valor invalido\")\n",
        "  salario = float(input(\"Informe outro valor: \"))\n",
        "\n",
        "#Validar sexo\n",
        "sexo = input(\"informe seu sexo (f) ou (m): \")\n",
        "while sexo not in (\"f\", \"m\") :\n",
        "  print(\"Sexo invalido...\")\n",
        "  sexo = input(\"Escolha uma das opçoes (f) ou (m): \")\n",
        "\n",
        "#validar estado civil\n",
        "est_civil = input(\"Informe seu estado civil (s), (c), (v) ou (d): \")\n",
        "while est_civil not in (\"s\", \"c\", \"v\", \"d\") :\n",
        "  print(\"Estado civil invalido...\")\n",
        "  est_civil = input(\"Informe uma das opçoes validas: \")\n",
        "\n",
        "print(\"Todas as informaçoes foram validadas com sucesso!!!\")\n"
      ]
    },
    {
      "cell_type": "markdown",
      "metadata": {
        "id": "8WpDFV0uP1DX"
      },
      "source": [
        "4- Supondo que a população de um país A seja da ordem de 80000 habitantes com uma taxa anual de crescimento de 3% e que a população de B seja 200000 habitantes com uma taxa de crescimento de 1.5%. Faça um programa que calcule e escreva o número de anos necessários para que a população do país A ultrapasse ou iguale a população do país B, mantidas as taxas de crescimento."
      ]
    },
    {
      "cell_type": "code",
      "execution_count": 72,
      "metadata": {
        "id": "Qszzk46vzGoS",
        "colab": {
          "base_uri": "https://localhost:8080/"
        },
        "outputId": "7fad9359-f61b-48ff-9b0d-839247209e24"
      },
      "outputs": [
        {
          "output_type": "stream",
          "name": "stdout",
          "text": [
            "Serão necessarios 63 para que a população da cidade A ultrapasse a de B\n"
          ]
        }
      ],
      "source": [
        "#População cidade A\n",
        "popa = 80000\n",
        "crescimento_a = 0.03\n",
        "\n",
        "#População cidade B\n",
        "popb = 200000\n",
        "crescimento_b = 0.015\n",
        "\n",
        "ano = 0\n",
        "while popa < popb :\n",
        "  popa += popa * crescimento_a\n",
        "  popb += popb * crescimento_b\n",
        "  ano += 1\n",
        "print(\"Serão necessarios\", ano, \"para que a população da cidade A ultrapasse a de B\")\n",
        "\n",
        "\n",
        "\n",
        "\n",
        "\n",
        ""
      ]
    },
    {
      "cell_type": "markdown",
      "metadata": {
        "id": "GaMiWS9DP-zf"
      },
      "source": [
        "5- Altere o programa anterior permitindo ao usuário informar as populações e as taxas de crescimento iniciais. Valide a entrada e permita repetir a operação."
      ]
    },
    {
      "cell_type": "code",
      "execution_count": 76,
      "metadata": {
        "id": "ibOa9dT0P5iD",
        "colab": {
          "base_uri": "https://localhost:8080/"
        },
        "outputId": "24eb11dc-d389-499a-cb7f-88fd39d62dc8"
      },
      "outputs": [
        {
          "output_type": "stream",
          "name": "stdout",
          "text": [
            "Informe a a quantidade de habitantes na cidade A: 80000\n",
            "informe a taxa de crescimento anual:3\n",
            "Informe a a quantidade de habitantes na cidade b: 200000\n",
            "informe a taxa de crescimento anual:1.5\n",
            "Serão necessarios 63 para que a população da cidade A ultrapasse a de B\n"
          ]
        }
      ],
      "source": [
        "#População cidade A\n",
        "população_a = float(input(\"Informe a a quantidade de habitantes na cidade A: \"))\n",
        "crescimento_a = float(input(\"informe a taxa de crescimento anual:\"))\n",
        "taxa_a = crescimento_a / 100\n",
        "\n",
        "#População cidade B\n",
        "população_b = float(input(\"Informe a a quantidade de habitantes na cidade b: \"))\n",
        "crescimento_b = float(input(\"informe a taxa de crescimento anual:\"))\n",
        "taxa_b = crescimento_b / 100\n",
        "\n",
        "#Validando A menor que B\n",
        "while população_a >= população_b :\n",
        "  print(\"valor invalido... A população da cidade A deve ser menor...\")\n",
        "  população_a = float(input(\"Informe a a quantidade de habitantes na cidade A: \"))\n",
        "  população_b = float(input(\"Informe a a quantidade de habitantes na cidade b: \"))\n",
        "#inicio da contagem\n",
        "ano = 0\n",
        "while população_a < popb :\n",
        "  população_a += população_a * taxa_a\n",
        "  população_b += população_b * taxa_b\n",
        "  ano += 1\n",
        "print(\"Serão necessarios\", ano, \"para que a população da cidade A ultrapasse a de B\")"
      ]
    },
    {
      "cell_type": "markdown",
      "metadata": {
        "id": "HF_S1CYWQG1v"
      },
      "source": [
        "6- Faça um programa que imprima na tela os números de 1 a 20, um abaixo do outro. Depois modifique o programa para que ele mostre os números um ao lado do outro."
      ]
    },
    {
      "cell_type": "code",
      "execution_count": null,
      "metadata": {
        "id": "ns_qNgR2zIPJ"
      },
      "outputs": [],
      "source": [
        "# SEU CÓDIGO AQUI..."
      ]
    },
    {
      "cell_type": "markdown",
      "metadata": {
        "id": "v7UrGR9MQLnW"
      },
      "source": [
        "7- Faça um programa que leia 5 números e informe o maior número."
      ]
    },
    {
      "cell_type": "code",
      "execution_count": null,
      "metadata": {
        "id": "MOwOObu6QI5a"
      },
      "outputs": [],
      "source": [
        "# SEU CÓDIGO AQUI..."
      ]
    },
    {
      "cell_type": "markdown",
      "metadata": {
        "id": "B-7qr6k3QQsg"
      },
      "source": [
        "8- Faça um programa que leia 5 números e informe a soma e a média dos números."
      ]
    },
    {
      "cell_type": "code",
      "execution_count": null,
      "metadata": {
        "id": "pmJfzKWjQR0-"
      },
      "outputs": [],
      "source": [
        "# SEU CÓDIGO AQUI..."
      ]
    },
    {
      "cell_type": "markdown",
      "metadata": {
        "id": "nUAFdwiYQU9H"
      },
      "source": [
        "9- Faça um programa que imprima na tela apenas os números ímpares entre 1 e 50."
      ]
    },
    {
      "cell_type": "code",
      "execution_count": null,
      "metadata": {
        "id": "dttpJpn3QV73"
      },
      "outputs": [],
      "source": [
        "# SEU CÓDIGO AQUI..."
      ]
    },
    {
      "cell_type": "markdown",
      "metadata": {
        "id": "XMh61ATtQaQ2"
      },
      "source": [
        "10- Faça um programa que receba dois números inteiros e gere os números inteiros que estão no intervalo compreendido por eles."
      ]
    },
    {
      "cell_type": "code",
      "execution_count": null,
      "metadata": {
        "id": "ijjW78AqQbRo"
      },
      "outputs": [],
      "source": [
        "# SEU CÓDIGO AQUI..."
      ]
    },
    {
      "cell_type": "markdown",
      "metadata": {
        "id": "5NuReyMRQdmH"
      },
      "source": [
        "11- Altere o programa anterior para mostrar no final a soma dos números."
      ]
    },
    {
      "cell_type": "code",
      "execution_count": null,
      "metadata": {
        "id": "Dw3f5v0dQemp"
      },
      "outputs": [],
      "source": [
        "# SEU CÓDIGO AQUI..."
      ]
    },
    {
      "cell_type": "markdown",
      "metadata": {
        "id": "JzSUD3yHQiRW"
      },
      "source": [
        "12- Desenvolva um gerador de tabuada, capaz de gerar a tabuada de qualquer número inteiro entre 1 a 10. O usuário deve informar de qual numero ele deseja ver a tabuada. A saída deve ser conforme o exemplo abaixo:\n",
        "\n",
        "Tabuada de 5:\n",
        "\n",
        "5 X 1 = 5\n",
        "\n",
        "5 X 2 = 10\n",
        "\n",
        "...\n",
        "\n",
        "5 X 10 = 50"
      ]
    },
    {
      "cell_type": "code",
      "execution_count": null,
      "metadata": {
        "id": "BFDcQCFnQnNo"
      },
      "outputs": [],
      "source": [
        "# SEU CÓDIGO AQUI..."
      ]
    },
    {
      "cell_type": "markdown",
      "metadata": {
        "id": "-LI5xyBNQqq-"
      },
      "source": [
        "13- Faça um programa que peça dois números, base e expoente, calcule e mostre o primeiro número elevado ao segundo número. Não utilize a função de potência da linguagem."
      ]
    },
    {
      "cell_type": "code",
      "execution_count": null,
      "metadata": {
        "id": "vzAyk0HrQrxn"
      },
      "outputs": [],
      "source": [
        "# SEU CÓDIGO AQUI..."
      ]
    },
    {
      "cell_type": "markdown",
      "metadata": {
        "id": "1S9PEwRLQuEm"
      },
      "source": [
        "14- Faça um programa que peça 10 números inteiros, calcule e mostre a quantidade de números pares e a quantidade de números ímpares."
      ]
    },
    {
      "cell_type": "code",
      "execution_count": null,
      "metadata": {
        "id": "QUkfEm9CQvWa"
      },
      "outputs": [],
      "source": [
        "# SEU CÓDIGO AQUI..."
      ]
    },
    {
      "cell_type": "markdown",
      "metadata": {
        "id": "jivgY60PQxeX"
      },
      "source": [
        "15- A série de Fibonacci é formada pela sequência 1,1,2,3,5,8,13,21,34,55,... Faça um programa capaz de gerar a série até o n−ésimo termo."
      ]
    },
    {
      "cell_type": "code",
      "execution_count": null,
      "metadata": {
        "id": "a31HxmdsQyUU"
      },
      "outputs": [],
      "source": [
        "# SEU CÓDIGO AQUI..."
      ]
    }
  ],
  "metadata": {
    "colab": {
      "provenance": [],
      "include_colab_link": true
    },
    "kernelspec": {
      "display_name": "Python 3",
      "name": "python3"
    },
    "language_info": {
      "name": "python"
    }
  },
  "nbformat": 4,
  "nbformat_minor": 0
}