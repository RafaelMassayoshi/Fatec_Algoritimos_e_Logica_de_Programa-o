{
  "nbformat": 4,
  "nbformat_minor": 0,
  "metadata": {
    "colab": {
      "provenance": [],
      "include_colab_link": true
    },
    "kernelspec": {
      "name": "python3",
      "display_name": "Python 3"
    },
    "language_info": {
      "name": "python"
    }
  },
  "cells": [
    {
      "cell_type": "markdown",
      "metadata": {
        "id": "view-in-github",
        "colab_type": "text"
      },
      "source": [
        "<a href=\"https://colab.research.google.com/github/RafaelMassayoshi/python/blob/main/C%C3%B3pia_de_Estrutura_Condicional_FATEC.ipynb\" target=\"_parent\"><img src=\"https://colab.research.google.com/assets/colab-badge.svg\" alt=\"Open In Colab\"/></a>"
      ]
    },
    {
      "cell_type": "markdown",
      "source": [
        "# **ESTRUTURAS CONDICIONAIS EM PYTHON**"
      ],
      "metadata": {
        "id": "oYtbsCJCIcLe"
      }
    },
    {
      "cell_type": "markdown",
      "source": [
        "# 1. Introdução às Estruturas Condicionais\n",
        "- Conceito e finalidade.\n",
        "- Como as estruturas condicionais permitem a tomada de decisões em um programa\n"
      ],
      "metadata": {
        "id": "1_BuSh45Inx_"
      }
    },
    {
      "cell_type": "markdown",
      "source": [
        "# 2. Sintaxe do if, elif, e else\n",
        "- Estrutura básica:\n"
      ],
      "metadata": {
        "id": "1-H5a9OpItH-"
      }
    },
    {
      "cell_type": "code",
      "source": [
        "n = int(input(\"Digite um numero\"))\n",
        "if n > 0:\n",
        "  print(\"O numero é positivo\")\n",
        "if n < 0:\n",
        "  print(\"O numero é negativo\")\n",
        "if n == 0:\n",
        "  print(\"O numero é igual a zero\")"
      ],
      "metadata": {
        "id": "rp16N6M1I7km",
        "colab": {
          "base_uri": "https://localhost:8080/"
        },
        "outputId": "679f1eb8-315d-4123-93eb-314e4e3551ec"
      },
      "execution_count": null,
      "outputs": [
        {
          "output_type": "stream",
          "name": "stdout",
          "text": [
            "Digite um numero0\n",
            "O numero é igual a zero\n"
          ]
        }
      ]
    },
    {
      "cell_type": "markdown",
      "source": [
        "- Exemplos práticos"
      ],
      "metadata": {
        "id": "WBnlfo1YI43u"
      }
    },
    {
      "cell_type": "code",
      "execution_count": null,
      "metadata": {
        "id": "5077BjrGISc2"
      },
      "outputs": [],
      "source": []
    },
    {
      "cell_type": "markdown",
      "source": [
        "# 3. Operadores de Comparação e Lógicos\n",
        "- Revisão dos operadores: `==, !=, <, >, <=, >=`.\n",
        "- Revisão dos operadores lógicos: `and, or, not`.\n"
      ],
      "metadata": {
        "id": "qahQSKscJBX9"
      }
    },
    {
      "cell_type": "code",
      "source": [
        "# ..."
      ],
      "metadata": {
        "id": "pw7QvR20JHYn"
      },
      "execution_count": null,
      "outputs": []
    },
    {
      "cell_type": "markdown",
      "source": [
        "# 4. Exemplos Práticos\n",
        "- Exemplo 1: Verificar se um número é par ou ímpar.\n"
      ],
      "metadata": {
        "id": "-4n8_zIpJLJu"
      }
    },
    {
      "cell_type": "code",
      "source": [
        "# ..."
      ],
      "metadata": {
        "id": "2S7TBXN5JN0O"
      },
      "execution_count": null,
      "outputs": []
    },
    {
      "cell_type": "markdown",
      "source": [
        "- Exemplo 2: Verificar se um aluno foi aprovado, reprovado ou se está em recuperação."
      ],
      "metadata": {
        "id": "76ln5wUUJRju"
      }
    },
    {
      "cell_type": "code",
      "source": [
        "# ..."
      ],
      "metadata": {
        "id": "7hOV-f5mJT18"
      },
      "execution_count": null,
      "outputs": []
    },
    {
      "cell_type": "markdown",
      "source": [
        "- Exemplo 3: Identificar se uma pessoa pode votar."
      ],
      "metadata": {
        "id": "VFm8-28wJXuH"
      }
    },
    {
      "cell_type": "code",
      "source": [
        "# ..."
      ],
      "metadata": {
        "id": "39BjBkBzJZzn"
      },
      "execution_count": null,
      "outputs": []
    },
    {
      "cell_type": "markdown",
      "source": [
        "# **Lista de Exercícios:**"
      ],
      "metadata": {
        "id": "OILQbqT6Jg6d"
      }
    },
    {
      "cell_type": "markdown",
      "source": [
        "1.\tCrie um programa que peça ao usuário para inserir um número e verifique se é positivo, negativo ou zero."
      ],
      "metadata": {
        "id": "OhajSa8-Jiwv"
      }
    },
    {
      "cell_type": "code",
      "source": [
        "n = int(input(\"Digite um numero\"))\n",
        "if n > 0:\n",
        "  print(\"O numero é positivo\")\n",
        "if n < 0:\n",
        "  print(\"O numero é negativo\")\n",
        "if n == 0:\n",
        "  print(\"O numero é igual a zero\")"
      ],
      "metadata": {
        "colab": {
          "base_uri": "https://localhost:8080/"
        },
        "id": "6SVDCSKOUdEY",
        "outputId": "8cae4b43-80ca-4b3f-b1ca-15662417dfd1"
      },
      "execution_count": null,
      "outputs": [
        {
          "output_type": "stream",
          "name": "stdout",
          "text": [
            "Digite um numero2\n",
            "O numero é positivo\n"
          ]
        }
      ]
    },
    {
      "cell_type": "markdown",
      "source": [
        "2.\tEscreva um código que verifique a idade de uma pessoa e imprima se ela é menor de idade, maior de idade ou idosa."
      ],
      "metadata": {
        "id": "MGRULY1uJljH"
      }
    },
    {
      "cell_type": "code",
      "source": [
        "idade = int(input(\"Informe a sua idade: \"))\n",
        "if idade >= 60:\n",
        "  print(\"Você é idoso\")\n",
        "elif idade >= 18:\n",
        " print(\"Voce é maior de idade\")\n",
        "if idade < 17:\n",
        "  print(\"Voce é menor de idade\")\n"
      ],
      "metadata": {
        "colab": {
          "base_uri": "https://localhost:8080/"
        },
        "id": "XXADmTnyUhYN",
        "outputId": "60c89e30-ad7a-45e1-9d42-89c53638655a"
      },
      "execution_count": null,
      "outputs": [
        {
          "output_type": "stream",
          "name": "stdout",
          "text": [
            "Informe a sua idade: 30\n",
            "Voce é maior de idade\n"
          ]
        }
      ]
    },
    {
      "cell_type": "markdown",
      "source": [
        "3.\tFaça um programa que peça a nota de um aluno e informe se ele foi aprovado (nota >= 7), de recuperação (5 <= nota < 7) ou reprovado (nota < 5)."
      ],
      "metadata": {
        "id": "hSC1gejzJn-X"
      }
    },
    {
      "cell_type": "code",
      "source": [
        "\n",
        "nota = int(input(\"informe a sua nota: \"))\n",
        "if nota >= 7:\n",
        "  print(\"Voce foi aprovado\")\n",
        "elif nota >= 5:\n",
        " print(\"Voce esta de recuperação\")\n",
        "else:\n",
        "  print(\"voce esta reprovado\")"
      ],
      "metadata": {
        "colab": {
          "base_uri": "https://localhost:8080/"
        },
        "id": "Wtsnr1XuXogZ",
        "outputId": "7681f5fd-310f-4ef7-85c2-4853977a7967"
      },
      "execution_count": null,
      "outputs": [
        {
          "output_type": "stream",
          "name": "stdout",
          "text": [
            "informe a sua nota: 8\n",
            "Voce foi aprovado\n"
          ]
        }
      ]
    },
    {
      "cell_type": "markdown",
      "source": [
        "4.\tCrie um sistema que determine se uma pessoa pode tirar carteira de motorista (idade mínima de 18 anos)."
      ],
      "metadata": {
        "id": "dLmLWyOrJqzX"
      }
    },
    {
      "cell_type": "code",
      "source": [
        "idade = int(input(\"Informe a sua idade:\"))\n",
        "if idade >= 18:\n",
        "  print(\"Voce pode realizar o exame\")\n",
        "else:\n",
        "  print(\"Voce não pode tirar habilitação\")\n",
        "ex = input(\"voce passou na prova?\")\n",
        "if ex == \"sim\" :\n",
        "  print(\"Voce pode tirar a habilitação\")\n",
        "else :\n",
        "  print(\"Voce não pode tirar a habilitação\")"
      ],
      "metadata": {
        "colab": {
          "base_uri": "https://localhost:8080/"
        },
        "id": "tDiy2u5NZczU",
        "outputId": "a01cd48e-3566-4043-d38d-ca07fce5bfa6"
      },
      "execution_count": null,
      "outputs": [
        {
          "output_type": "stream",
          "name": "stdout",
          "text": [
            "Informe a sua idade:22\n",
            "Voce pode realizar o exame\n",
            "voce passou na prova?sim\n",
            "Voce pode tirar a habilitação\n"
          ]
        }
      ]
    },
    {
      "cell_type": "markdown",
      "source": [
        "5.\tDesenvolva um programa que verifique se um ano é bissexto."
      ],
      "metadata": {
        "id": "MvuFRPn8Jtoo"
      }
    },
    {
      "cell_type": "code",
      "source": [
        "ano = int(input(\"informe o ano a ser verificado: \"))\n",
        "if ano% 100 == 0 :\n",
        "  print(\"O ano não é bissexto\")\n",
        "elif (ano% 4 == 0) or (ano% 400 == 0) :\n",
        "  print(\"O ano é bissexto\")\n",
        "else :\n",
        "  print(\"O ano não é bissexto\")"
      ],
      "metadata": {
        "colab": {
          "base_uri": "https://localhost:8080/"
        },
        "id": "jwdFP0lXmqkg",
        "outputId": "5a4a95de-0c8d-4689-9005-0c2292ef7898"
      },
      "execution_count": null,
      "outputs": [
        {
          "output_type": "stream",
          "name": "stdout",
          "text": [
            "informe o ano a ser verificado: 2032\n",
            "O ano é bissexto\n"
          ]
        }
      ]
    },
    {
      "cell_type": "markdown",
      "source": [
        "6.\tEscreva um código que peça ao usuário para inserir uma letra e informe se ela é uma vogal ou uma consoante."
      ],
      "metadata": {
        "id": "_jS31FX3JvrG"
      }
    },
    {
      "cell_type": "code",
      "source": [
        "letra = input(\"Digite uma letra: \")\n",
        "if letra == \"a\" :{\n",
        "   print(\"Esta letra é uma vogal\")}\n",
        "elif letra == \"e\" :{\n",
        "   print(\"Esta letra é uma vogal\")}\n",
        "elif letra == \"i\" :{\n",
        "   print(\"Esta letra é uma vogal\")}\n",
        "elif letra == \"o\" :{\n",
        "   print(\"Esta letra é uma vogal\")}\n",
        "elif letra == \"u\" :{\n",
        "   print(\"Esta letra é uma vogal\")}\n",
        "else :\n",
        "  print(\"Esta letra é uma consoante\")"
      ],
      "metadata": {
        "colab": {
          "base_uri": "https://localhost:8080/"
        },
        "id": "w4FCu4y6sl7t",
        "outputId": "68c746f3-f59b-4bf9-dcd4-6e13df468cde"
      },
      "execution_count": 20,
      "outputs": [
        {
          "output_type": "stream",
          "name": "stdout",
          "text": [
            "Digite uma letra: z\n",
            "Esta letra é uma consoante\n"
          ]
        }
      ]
    },
    {
      "cell_type": "markdown",
      "source": [
        "7.\tCrie um programa que peça o nome de um mês e informe quantos dias ele tem.\n"
      ],
      "metadata": {
        "id": "O0Wv5NCkJ1Sj"
      }
    },
    {
      "cell_type": "code",
      "source": [
        "mes = input (\"informe um mes: \")\n",
        "if mes == \"fevereiro\" :\n",
        " print(\"O mes possui 28 dias\")\n",
        "elif mes == (\"janeiro\") :{\n",
        " print(\"O mes possui 31 dias\")}\n",
        "elif mes == (\"março\") :{\n",
        " print(\"O mes possui 31 dias\")}\n",
        "elif mes == (\"maio\") :{\n",
        " print(\"O mes possui 31 dias\")}\n",
        "elif mes == (\"julho\") :{\n",
        " print(\"O mes possui 31 dias\")}\n",
        "elif mes == (\"agosto\") :{\n",
        " print(\"O mes possui 31 dias\")}\n",
        "elif mes == (\"outubro\") :{\n",
        " print(\"O mes possui 31 dias\")}\n",
        "elif mes == (\"dezembro\") :{\n",
        " print(\"O mes possui 31 dias\")}\n",
        "else :\n",
        " print(\"o mes possui 30 dias\")"
      ],
      "metadata": {
        "colab": {
          "base_uri": "https://localhost:8080/"
        },
        "id": "FnYMjY-Y0Nu8",
        "outputId": "4921fccf-43aa-4a93-8069-d5118fa3a1f0"
      },
      "execution_count": 9,
      "outputs": [
        {
          "output_type": "stream",
          "name": "stdout",
          "text": [
            "informe um mes: junho\n",
            "o mes possui 30 dias\n"
          ]
        }
      ]
    },
    {
      "cell_type": "markdown",
      "source": [],
      "metadata": {
        "id": "msPrI6Xl1ELW"
      }
    },
    {
      "cell_type": "markdown",
      "source": [
        "9.\tFaça um código que peça ao usuário seu salário e calcule o imposto a ser pago (faixas: até `R$ 1.000`, isento; `R$ 1.001` a `R$ 3.000`, 10%; acima de `R$ 3.000`, 20%)."
      ],
      "metadata": {
        "id": "9Su10vicJ4wq"
      }
    },
    {
      "cell_type": "code",
      "source": [
        "salario = float(input(\"Informe o valor do seu salario: \"))\n",
        "if salario >= 3000:\n",
        "  v20 = salario * 20 / 100\n",
        "  print(\"voce pagara de impostos o equivalente a: \", v20)\n",
        "elif salario >= 1001:\n",
        "  v10 = salario * 10 / 100\n",
        "  print(\"voce pagara de impostos o equivalente a: \", v10)\n",
        "else:\n",
        "  print(\"Voce esta isento de impostos\")"
      ],
      "metadata": {
        "id": "tFbR08r9s9EB"
      },
      "execution_count": null,
      "outputs": []
    },
    {
      "cell_type": "markdown",
      "source": [
        "8.\tDesenvolva um sistema que determine se um número é múltiplo de 3 e 5."
      ],
      "metadata": {
        "id": "EEY-66tcJ3Rc"
      }
    },
    {
      "cell_type": "code",
      "source": [
        "numero = int(input(\"Informe um numero: \"))\n",
        "\n",
        "if numero% 5 == 0 :{\n",
        "    print(\"O numero é multiplo de 5\")\n",
        "}\n",
        "elif numero% 3 == 0 :{\n",
        "    print(\"O numero é multiplo de 3\")\n",
        "}\n",
        "else:{\n",
        "    print(\"O numero não é multiplo nem de 3 nem 5\")\n",
        "}"
      ],
      "metadata": {
        "colab": {
          "base_uri": "https://localhost:8080/"
        },
        "id": "bx_X2UN6edAn",
        "outputId": "4edb978d-0ba9-4eba-9dc9-75107c64e208"
      },
      "execution_count": 25,
      "outputs": [
        {
          "output_type": "stream",
          "name": "stdout",
          "text": [
            "Informe um numero: 17\n",
            "O numero não é multiplo nem de 3 nem 5\n"
          ]
        }
      ]
    },
    {
      "cell_type": "markdown",
      "source": [],
      "metadata": {
        "id": "UjMocikuGIr0"
      }
    },
    {
      "cell_type": "markdown",
      "source": [
        "10.\tCrie um programa que pergunte a temperatura em graus Celsius e informe se está frio (abaixo de 15°C), ameno (15°C a 25°C) ou quente (acima de 25°C).\n"
      ],
      "metadata": {
        "id": "p_W20MikJ6iU"
      }
    },
    {
      "cell_type": "code",
      "source": [
        "temp = int(input(\"informe a temperatura\"))\n",
        "if temp >= 25:\n",
        "  print(\"esta quente\")\n",
        "elif temp >= 15:\n",
        "  print(\"o clima esta ameno\")\n",
        "else :\n",
        "  print(\"esta frio\")"
      ],
      "metadata": {
        "colab": {
          "base_uri": "https://localhost:8080/"
        },
        "id": "xfPFlGy9GNvk",
        "outputId": "0b8679f7-6b74-4337-cf1c-207c6ca68a1f"
      },
      "execution_count": null,
      "outputs": [
        {
          "output_type": "stream",
          "name": "stdout",
          "text": [
            "informe a temperatura13\n",
            "esta frio\n"
          ]
        }
      ]
    },
    {
      "cell_type": "markdown",
      "source": [
        "11.\tEscreva um código que determine se um número é primo.\n"
      ],
      "metadata": {
        "id": "luRj3PH1J8F7"
      }
    },
    {
      "cell_type": "code",
      "source": [
        "numero = int(input(\"Informe um numero: \"))\n",
        "if numero% numero != 0 :\n",
        "  print(\"o numero é primo\")\n",
        "else:\n",
        "  print(\"o numero nao é primo\")"
      ],
      "metadata": {
        "id": "uWzB__Xhmew5",
        "colab": {
          "base_uri": "https://localhost:8080/"
        },
        "outputId": "b5b5b808-f9ea-4f5b-f598-e9161893e09e"
      },
      "execution_count": null,
      "outputs": [
        {
          "output_type": "stream",
          "name": "stdout",
          "text": [
            "Informe um numero: 8\n",
            "o numero nao é primo\n"
          ]
        }
      ]
    },
    {
      "cell_type": "markdown",
      "source": [
        "12.\tFaça um programa que peça o ano de nascimento e informe a classe de idade (0-12 anos, 13-17 anos, 18-59 anos, 60 anos ou mais).\n"
      ],
      "metadata": {
        "id": "cHgBQKKNJ9YC"
      }
    },
    {
      "cell_type": "code",
      "source": [
        "ano = int(input(\"Informe seu ano de nascimento: \"))\n",
        "idade = 2024 - ano\n",
        "if idade >= 60 :{\n",
        "    print(\"Voce possui mais de 60 anos.\")}\n",
        "elif idade >= 18 :{\n",
        "    print(\"Voce possui entre 18 e 59 anos\")\n",
        "}\n",
        "elif idade >= 13 :{\n",
        "    print(\"Voce possui entre 13 e 17 anos\")\n",
        "}\n",
        "else :{\n",
        "    print(\"Voce possui entre 0 e 12 anos\")\n",
        "}"
      ],
      "metadata": {
        "colab": {
          "base_uri": "https://localhost:8080/"
        },
        "id": "o45DIq30nSK8",
        "outputId": "e02f31a6-e8cc-4ef0-ce7b-2fb0cc3b9fa2"
      },
      "execution_count": 6,
      "outputs": [
        {
          "output_type": "stream",
          "name": "stdout",
          "text": [
            "Informe seu ano de nascimento: 2015\n",
            "Voce possui entre 0 e 12 anos\n"
          ]
        }
      ]
    },
    {
      "cell_type": "markdown",
      "source": [
        "13.\tCrie um sistema que verifique se um triângulo é equilátero, isósceles ou escaleno com base nos comprimentos dos lados."
      ],
      "metadata": {
        "id": "HPQnV-dZJ-mL"
      }
    },
    {
      "cell_type": "code",
      "source": [
        "A = int(input(\"Informe a medida do lado A do triangulo: \"))\n",
        "B = int(input(\"Informe a medida do lado B do triangulo: \"))\n",
        "C = int(input(\"Informe a medida do lado C do triangulo: \"))\n",
        "triangulo = A + B + C\n",
        "if A == B == C :{\n",
        "    print(\"O triangulo é equilatero\")\n",
        "}\n",
        "elif A == B != C or C == A != B or B == C != A:{\n",
        "    print(\"O triangulo é isoceles\")\n",
        "}\n",
        "else :{\n",
        "    print(\"O triangulo é escaleno\")\n",
        "}"
      ],
      "metadata": {
        "colab": {
          "base_uri": "https://localhost:8080/"
        },
        "id": "mcB6x7HfusfD",
        "outputId": "09c352d0-2b5b-40ee-9616-e541879a2f64"
      },
      "execution_count": 54,
      "outputs": [
        {
          "output_type": "stream",
          "name": "stdout",
          "text": [
            "Informe a medida do lado A do triangulo: 4\n",
            "Informe a medida do lado B do triangulo: 1\n",
            "Informe a medida do lado C do triangulo: 9\n",
            "O triangulo é escaleno\n"
          ]
        }
      ]
    },
    {
      "cell_type": "markdown",
      "source": [
        "# **DESAFIOS**"
      ],
      "metadata": {
        "id": "KO5c2G87J_ki"
      }
    },
    {
      "cell_type": "markdown",
      "source": [
        "14.\tDesenvolva um programa que peça ao usuário um número e informe a tabela de multiplicação desse número.\n",
        "\n"
      ],
      "metadata": {
        "id": "Tf6ANOFHKCSq"
      }
    },
    {
      "cell_type": "markdown",
      "source": [
        "15.\tEscreva um código que verifique se uma senha é válida (mínimo de 8 caracteres, pelo menos uma letra e um número)."
      ],
      "metadata": {
        "id": "IVM3IesrKFie"
      }
    }
  ]
}